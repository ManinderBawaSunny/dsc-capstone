{
 "cells": [
  {
   "cell_type": "markdown",
   "metadata": {},
   "source": [
    "## Semester 1 Project Submission\n",
    "\n",
    "Please fill out:\n",
    "* Student name: \n",
    "* Instructor name: \n"
   ]
  },
  {
   "cell_type": "code",
   "execution_count": null,
   "metadata": {},
   "outputs": [],
   "source": [
    "# Your code here - remember to use markdown cells for comments as well!"
   ]
  },
  {
   "cell_type": "code",
   "execution_count": null,
   "metadata": {},
   "outputs": [],
   "source": [
    "### Relevant Imports ###\n",
    "import numpy as np\n",
    "import pandas as pd\n",
    "import scipy.stats as stats\n",
    "import matplotlib.pyplot as plt\n",
    "import seaborn as sns\n",
    "import sqlite3\n",
    "import zipfile\n",
    "\n",
    "%matplotlib inline"
   ]
  },
  {
   "cell_type": "markdown",
   "metadata": {},
   "source": [
    "# Business Understanding\n",
    "\n",
    "### Business Understanding\n",
    "\n",
    "Computing Vision (a made-up company for the purposes of this project) sees all the big companies creating original video content and they want to get in on the fun. They have decided to create a new movie studio, but they don’t have much background in creating movies. You are charged with exploring what types of films are currently doing the best at the box office using different samples of available data. You then will translate those findings into actionable insights that the head of Computing Vision's new movie studio can use to help decide what type of films to create.\n",
    "\n",
    "### Business Metrics\n",
    "\n",
    "Our recommendations for this company will be based off of the Gross Margin which is portrayed as a percentage. The higher this percentage is the more the company is retaining for every dollar that is invested in the movie and as such is seeing a higher return on their investment.\n",
    "\n",
    "$Gross Margin = \\frac{Gross Revenue - Costs}{Gross Revenue} x 100$\n",
    "\n",
    "This is an important metric, especially for a company about to enter an industry they have no presence in because it will help show how far their money goes to create profit. The higher this percentage the better the business will be doing because it is an indicator that retains more on each dollar of sales to its costs. This metric also allows us to take a standardized approach to comparing movies and their success. \n",
    "\n",
    "We want to investigate what a \"Good Movie\" i.e. a movie with a high Gross Margin is doing and try to emulate that. Thus we will explore the budget size, what directors are involved in those high margin films, and also what genres see the highest margin"
   ]
  },
  {
   "cell_type": "markdown",
   "metadata": {},
   "source": [
    "# Data Understanding\n",
    "### Opening all zipped files and databases\n",
    "\n",
    "We began our exploring our data by unzipping the SQLite database as well as reading in all of out csv/tsv files into pandas data frames to get a better idea of how we can approach cleaning the data"
   ]
  },
  {
   "cell_type": "code",
   "execution_count": null,
   "metadata": {},
   "outputs": [],
   "source": [
    "# open an sqlite connection\n",
    "\n",
    "conn = sqlite3.connect(\"zippedData/im.db\")\n",
    "cur = conn.cursor()"
   ]
  },
  {
   "cell_type": "code",
   "execution_count": null,
   "metadata": {},
   "outputs": [],
   "source": [
    "# Pull all of the tables in the database\n",
    "cur.execute(\"\"\"SELECT name FROM sqlite_master WHERE type = 'table';\"\"\")\n",
    "# Fetch the result and store it in table_names\n",
    "table_names = cur.fetchall()\n",
    "table_names"
   ]
  },
  {
   "cell_type": "code",
   "execution_count": null,
   "metadata": {},
   "outputs": [],

   "source": [
    "# query the notable tables movie_basics\n",
    "q1 = \"\"\"\n",
    "SELECT *\n",
    "FROM movie_basics\n",
    "LIMIT 5;\n",
    "\"\"\"\n",
    "pd.read_sql(q1, conn)"
   ]
  },
  {
   "cell_type": "code",
   "execution_count": null,
   "metadata": {},
   "outputs": [],
   "source": [
    "# query the notable tables movie_ratings\n",
    "q2 = \"\"\"\n",
    "SELECT *\n",
    "FROM movie_ratings\n",
    "LIMIT 5;\n",
    "\"\"\"\n",
    "pd.read_sql(q2, conn)"
   ]
  },
  {
   "cell_type": "markdown",
   "metadata": {},
   "source": [
    "### Database information\n",
    "\n",
    "These two database tables share a \"movie_id\" column, thus we can join on this key and take a look at movie information including name, release year, and genre as well as the average rating with the number of votes. We want to find a good balance of average rating as well as number of ratings since a small number of really high ratings could skew the interpretation of what a \"good\" movie is."
   ]
  },
  {
   "cell_type": "markdown",
   "metadata": {},
   "source": [
    "### CSV and TSV file information\n",
    "\n",
    "Read in all of the tsv and csv files in the proper formatting ensuring headers and proper indexing for the ones which require it as well as proper encoding for the tsv files"
   ]
  },
  {
   "cell_type": "code",
   "execution_count": null,
   "metadata": {},
   "outputs": [],
   "source": [
    "movie_info = pd.read_csv(\"zippedData/rt.movie_info.tsv\",header = 0, sep = '\\t')    \n",
    "\n",
    "reviews = pd.read_csv(\"zippedData/rt.reviews.tsv\", header = 0, sep = '\\t', encoding= 'unicode_escape')\n",
    "\n",
    "tmdb_movies = pd.read_csv(\"zippedData/tmdb.movies.csv\", header = 0)    \n",
    "\n",
    "movie_budgets = pd.read_csv(\"zippedData/tn.movie_budgets.csv\", header = 0)\n",
    "\n",
    "movie_gross = pd.read_csv(\"zippedData/bom.movie_gross.csv\", header = 0)"
   ]
  },
  {
   "cell_type": "markdown",
   "metadata": {},
   "source": [
    "#### Movie Info Dataframe\n",
    "\n",
    "This dataframe contains general information regarding the movies including rating, director, release date for theaters and DVD as well as the currency, box office, runtime and studio. There is a unique id column which we will not use as an index because it could be useful for combining data frames or doing different lookups\n",
    "\n",
    "We may consider dropping currency, box office, and studio due to there being many missing values\n",
    "\n",
    "Most columns are missing values and as such we will have to fill or deal with those missing values accordingly, this dataframe is related to the reviews data frame by the id column which relates to a unique id for each movie"
   ]
  },
  {
   "cell_type": "code",
   "execution_count": null,
   "metadata": {},
   "outputs": [],
   "source": [
    "movie_info.info()"
   ]
  },
  {
   "cell_type": "code",
   "execution_count": null,
   "metadata": {},
   "outputs": [],
   "source": [
    "movie_info.head()"
   ]
  },
  {
   "cell_type": "markdown",
   "metadata": {},
   "source": [
    "#### Review Dataframe\n",
    "\n",
    "The most important information from this dataframe will be the id which cooresponds to the movie that they are reviewing and the rating that they give it. We are missing about more than 10,000 ratings which is a considerable amount to discard, so we could fill these with the average value of the rating for the movie that they are reviewing. In order to make thge rating a useful variable we would have to apply a function to transform it from a string into a float rating value\n",
    "\n",
    "A more advanced approach would be to conduct sentiment analysis and apply weights to the most common keywords found in a review at each score level and develop a heuristic to apply a score to the missing values based on the review that they left discarding all review entries without an actual review.\n",
    "\n",
    "This data frame has a relation to the movie_info data frame since bothg come from rotten tomatoes. The id relates to the movie that each critic leaves a review for. "
   ]
  },
  {
   "cell_type": "code",
   "execution_count": null,
   "metadata": {},
   "outputs": [],
   "source": [
    "reviews.info()"
   ]
  },
  {
   "cell_type": "code",
   "execution_count": null,
   "metadata": {},
   "outputs": [],
   "source": [
    "reviews.head()"
   ]
  },
  {
   "cell_type": "code",
   "execution_count": 12,
   "metadata": {},
   "outputs": [
    {
     "data": {
      "text/plain": [
       "3/5       4327\n",
       "4/5       3672\n",
       "3/4       3577\n",
       "2/5       3160\n",
       "2/4       2712\n",
       "          ... \n",
       "4.0          1\n",
       "1.8          1\n",
       "4.1/10       1\n",
       "F-           1\n",
       "4.0/10       1\n",
       "Name: rating, Length: 186, dtype: int64"
      ]
     },
     "execution_count": null,
     "metadata": {},
     "output_type": "execute_result"
    }
   ],
   "source": [
    "reviews['rating'].value_counts()"
   ]
  },
  {
   "cell_type": "markdown",
   "metadata": {},
   "source": [
    "#### The Movie DB Dataframe\n",
    "\n",
    "This dataframe is not missing any values. It has information about genre ids and contains a unique id column along with the movie name, how many votes it received, and what the average vote value was. Vote seems to be this specific sites way of ranking the movies. "
   ]
  },
  {
   "cell_type": "code",
   "execution_count": null,
   "metadata": {},
   "outputs": [],
   "source": [
    "tmdb_movies.info()"
   ]
  },
  {
   "cell_type": "code",
   "execution_count": null,
   "metadata": {},
   "outputs": [],
   "source": [
    "tmdb_movies.head()"
   ]
  },
  {
   "cell_type": "code",
   "execution_count": null,
   "metadata": {},
   "outputs": [],
   "source": [
    "# Create a dictionary to relate the genre id's to the genre found on the movie DB website at \n",
    "# this customer support url: https://www.themoviedb.org/talk/5daf6eb0ae36680011d7e6ee\n",
    "tmbd_genres = {28: \"Action\", 12: \"Adventure\", 16: \"Animation\", 35: \"Comedy\", 99: \"Documentary\", 18: \"Drama\", 10751: \"Family\", 14: \"Fantasy\", 36: \"History\", 27: \"Horror\", 10402: \"Music\", 9648: \"Mystery\", 10749: \"Romance\", 878: \"Science Fiction\", 10770: \"TV Movie\", 53: \"Thriller\", 10752: \"War\", 37: \"Western\"}"
   ]
  },
  {
   "cell_type": "markdown",
   "metadata": {},
   "source": [
    "#### Moview Budgets Data Frame\n",
    "\n",
    "This data frame is also not missing any values, it contains an ID for each movie, the title, production budget, how much the movie grossed domestically and how much it grossed worldwide\n",
    "\n",
    "We will be transforming this data by making the budget and gross column integers as well as adding additional columns for profit and Gross Margin to help us in later analysis"
   ]
  },
  {
   "cell_type": "code",
   "execution_count": null,
   "metadata": {},
   "outputs": [],
   "source": [
    "movie_budgets.info()"
   ]
  },
  {
   "cell_type": "code",
   "execution_count": null,
   "metadata": {},
   "outputs": [],
   "source": [
    "movie_budgets.head()"
   ]
  },
  {
   "cell_type": "markdown",
   "metadata": {},
   "source": [
    "#### Movie Gross Data Frame\n",
    "\n",
    "This data frame is missing a lot of foreign gross values which could potentially be filled in by taking the difference from the budgets df ww_gross - domestic_gross, otherwise we will throw out those values because we can not estimate them.\n",
    "\n",
    "An alternative that we will not explore is scraping the web with the name of the movie and pulling in the foreign gross numbers. We are missing a few domestic gross numbers which can be thrown away since there are not many of them or we can use the movie budgets dataframe again to fill those in. \n",
    "\n",
    "We most likely will not use this data frame because the movie_budgets dataframe offer the same information and a bit more that is helpful to our analysis"
   ]
  },
  {
   "cell_type": "code",
   "execution_count": null,
   "metadata": {},
   "outputs": [],
   "source": [
    "movie_gross.info()"
   ]
  },
  {
   "cell_type": "code",
   "execution_count": null,
   "metadata": {},
   "outputs": [],
   "source": [
    "movie_gross.head()"
   ]
  },
  {
   "cell_type": "markdown",
   "metadata": {},
   "source": [
    "# Data Preparation\n",
    "\n",
    "### Data Cleaning for movie_budgets DataFrame\n",
    "\n",
    "The money_clean function we created removes the '$' and comma symbols from the input string. We used this function to clean the production_budget, domestic_gross, and worldwide_gross columns."
   ]
  },
  {
   "cell_type": "code",
   "execution_count": null,
   "metadata": {},
   "outputs": [],
   "source": [
    "# This is the column of budgets which we want to investigate - notice formatting problems\n",
    "prod_budget = movie_budgets[\"production_budget\"]\n",
    "prod_budget"
   ]
  },
  {
   "cell_type": "code",
   "execution_count": null,
   "metadata": {},
   "outputs": [],
   "source": [
    "def money_clean(s):\n",
    "    ''' \n",
    "    Takes in a string s, removes first character ($) and\n",
    "    all commas return the value cast as an int\n",
    "    '''\n",
    "    s = s[1:]\n",
    "    s = s.replace(\",\", \"\")\n",
    "    return int(s)\n",
    "\n",
    "# apply the method to the pandas series of budget values\n",
    "prod_budget = prod_budget.apply(money_clean)"
   ]
  },
  {
   "cell_type": "code",
   "execution_count": null,
   "metadata": {},
   "outputs": [],
   "source": [
    "# Set this cleaned series to the budget column in the data frame\n",
    "movie_budgets[\"production_budget\"] = prod_budget\n",
    "\n",
    "# apply the function to the other money columns\n",
    "movie_budgets[\"domestic_gross\"] = movie_budgets[\"domestic_gross\"].apply(money_clean)\n",
    "movie_budgets[\"worldwide_gross\"] = movie_budgets[\"worldwide_gross\"].apply(money_clean)\n",
    "\n",
    "# Calculate new values for foreign gross \n",
    "movie_budgets[\"foreign_gross\"] = movie_budgets[\"worldwide_gross\"] - movie_budgets[\"domestic_gross\"]\n",
    "\n",
    "# calculate the profit by taking gross minus budget (Revenue - cost)\n",
    "movie_budgets[\"domestic_profit\"] = movie_budgets[\"domestic_gross\"] - movie_budgets[\"production_budget\"]\n",
    "movie_budgets[\"foreign_profit\"] = movie_budgets[\"foreign_gross\"] - movie_budgets[\"production_budget\"]\n",
    "movie_budgets[\"total_profit\"] = movie_budgets[\"worldwide_gross\"] - movie_budgets[\"production_budget\"]"
   ]
  },
  {
   "cell_type": "code",
   "execution_count": null,
   "metadata": {},
   "outputs": [],
   "source": [
    "# create new month and year columns for later analysis\n",
    "rel_date = movie_budgets[\"release_date\"].str.strip()\n",
    "\n",
    "month = rel_date.apply(lambda x : x[:3])\n",
    "year = rel_date.apply(lambda x : x[-4:])\n",
    "\n",
    "movie_budgets[\"month\"] = month\n",
    "movie_budgets[\"year\"] = year"
   ]
  },
  {
   "cell_type": "code",
   "execution_count": null,
   "metadata": {},
   "outputs": [],
   "source": [
    "movie_budgets.head()"
   ]
  },
  {
   "cell_type": "markdown",
   "metadata": {},
   "source": [
    "# Exploratory Data Analysis and Visualization"
   ]
  },
  {
   "cell_type": "markdown",
   "metadata": {},
   "source": [
    "## Mason Batchelor\n",
    "\n",
    "##### Mason works only in this section and makes No changes to any other\n",
    "\n"
   ]
  },
  {
   "cell_type": "markdown",
   "metadata": {},
   "source": [
    "### Analyzing Movie Budgets\n",
    "\n",
    "Within the movie budgets data frame we created new column to represent the profit, month, and year for each of the entries. We are going to look at the relationship between many of these variables below. \n",
    "\n",
    "Adding in a Gross Margin column is essential given this is the metric we are most interested in. We will use this first to analyze the differnce in budgets, and recommend whether the company should target a large or small budget film. We are going to be taking a sample of 100 movies from the movie_budgets data frame to help with our analysis and visualizations. \n",
    "\n",
    "Additional Assumptions:\n",
    "- only consider movies with a Gross value (worldwide, domestic, and foreign) greater than zero because you cannot calculate Gross Margin with 0 gross revenue\n",
    "- randome samples from this data frame are representative of the population, and will be used in a independent two sample ttest\n",
    "- only consider movies with gross margin > -100 to remove outliers and aid in visualizations"
   ]
  },
  {
   "cell_type": "code",
   "execution_count": null,
   "metadata": {},
   "outputs": [],
   "source": [
    "import math"
   ]
  },
  {
   "cell_type": "code",
   "execution_count": null,
   "metadata": {},
   "outputs": [],
   "source": [
    "dates = pd.to_datetime(movie_budgets['release_date'])\n",
    "months = dates.dt.month\n",
    "movie_budgets['month_index'] = months"
   ]
  },
  {
   "cell_type": "code",
   "execution_count": null,
   "metadata": {},
   "outputs": [],
   "source": [
    "# Create the Gross Margin column in a new dataframe called budgets\n",
    "budgets =  movie_budgets.copy()"
   ]
  },
  {
   "cell_type": "code",
   "execution_count": null,
   "metadata": {},
   "outputs": [],
   "source": [
    "# only use movies that gross > 0 (denominator cannot be 0)\n",
    "budgets = budgets.loc[budgets['worldwide_gross'] > 0]\n",
    "\n",
    "# calculate gross Margin\n",
    "budgets['gross_margin_ww'] = (budgets['worldwide_gross'] - \n",
    "                              budgets['production_budget']) / budgets['worldwide_gross'] * 100"
   ]
  },
  {
   "cell_type": "code",
   "execution_count": null,
   "metadata": {},
   "outputs": [],
   "source": [
    "# REMOVE OUTLIERS from data frame\n",
    "Q1 = budgets['gross_margin_ww'].quantile(.25)\n",
    "Q3 = budgets['gross_margin_ww'].quantile(.75)\n",
    "IQR = Q3 - Q1\n",
    "# query out the outliers in the budgets data frame which are 1.5 x the iqr\n",
    "filtered_budgets = budgets.query('(@Q1 - 1.5 * @IQR) <= gross_margin_ww <= (@Q3 + 1.5 * @IQR)')\n",
    "\n",
    "# Ploting the result to check the difference \n",
    "budgets.join(filtered_budgets, rsuffix='_filtered').boxplot(['gross_margin_ww_filtered']);"
   ]
  },
  {
   "cell_type": "code",
   "execution_count": null,
   "metadata": {},
   "outputs": [],
   "source": [
    "filtered_budgets.loc[:, 'gross_margin_dom'] = (filtered_budgets['domestic_gross'] - \n",
    "                                        filtered_budgets['production_budget']) / filtered_budgets['domestic_gross'] * 100\n",
    "filtered_budgets.loc[:, 'gross_margin_for'] = (filtered_budgets['foreign_gross'] - \n",
    "                                        filtered_budgets['production_budget']) / filtered_budgets['foreign_gross'] * 100\n",
    "\n",
    "filtered_budgets.loc[:, 'gross_margin_for'] = filtered_budgets.loc[:, 'gross_margin_for'].apply(\n",
    "    lambda x: np.NAN if ((x == -np.inf) or (x == np.inf)) else x)\n",
    "\n",
    "filtered_budgets.loc[:, 'gross_margin_dom'] = filtered_budgets.loc[:, 'gross_margin_dom'].apply(\n",
    "    lambda x: np.NAN if ((x == -np.inf) or (x == np.inf)) else x)"
   ]
  },
  {
   "cell_type": "markdown",
   "metadata": {},
   "source": [
    "Now that we have all of the movies gross margin, and have removed any outliers that may skew the data related to budget we can move on with our analysis. Next we want to look at assigning a value of 1, 2, or 3 to each of the movies indicating whether or not they are small, medium, or big budget films. \n",
    "\n",
    "Through research we found the following:\n",
    "- Less than \\\\$5,000,000 is considered small budget\n",
    "- Between \\\\$5,000,000 and \\\\$100,000,000 is considered medium budget\n",
    "- greater than \\$100,000,000 is considered big budget"
   ]
  },
  {
   "cell_type": "code",
   "execution_count": null,
   "metadata": {},
   "outputs": [],
   "source": [
    "def budget_size(val): \n",
    "    ''' This function takes in a budget int value and returns a category'''\n",
    "    if val < 5000000:\n",
    "        return 1\n",
    "    elif val < 100000000:\n",
    "        return 2\n",
    "    else:\n",
    "        return 3"
   ]
  },
  {
   "cell_type": "code",
   "execution_count": null,
   "metadata": {},
   "outputs": [],
   "source": [
    "# Create budget size categorical variable to analyze differences between them\n",
    "filtered_budgets.loc[:, 'budget_size'] = filtered_budgets.loc[:, 'production_budget'].apply(budget_size)"
   ]
  },
  {
   "cell_type": "code",
   "execution_count": null,
   "metadata": {},
   "outputs": [],
   "source": [
    "fig, ax = plt.subplots(figsize=(12,6))\n",
    "# get the month values and aggregate gross margin to plot\n",
    "x_values = ['Small', 'Medium', 'Big']\n",
    "agg_margin = filtered_budgets.groupby('budget_size')['gross_margin_ww'].mean()\n",
    "\n",
    "sns.barplot(x=x_values, y = agg_margin.values)\n",
    "ax.set_ylabel(\"Average Gross Margin (in %)\", fontsize=16)\n",
    "ax.set_xlabel(\"Budget Size\", fontsize = 16)\n",
    "vals = ax.get_yticks()\n",
    "ax.set_yticklabels([f'{x:.2f}%' for x in vals])\n",
    "\n",
    "ax.set_title(\"Average Gross Margin for each budget size category\", fontsize = 18)\n",
    "plt.tight_layout();"
   ]
  },
  {
   "cell_type": "code",
   "execution_count": null,
   "metadata": {},
   "outputs": [],
   "source": [
    "budget_size_means = filtered_budgets.groupby('budget_size')['gross_margin_ww'].mean()\n",
    "budget_size_stds = filtered_budgets.groupby('budget_size')['gross_margin_ww'].std()\n",
    "budget_size_val_cnts = filtered_budgets.groupby('budget_size')['gross_margin_ww'].count()\n",
    "\n",
    "mean1 = budget_size_means[1]\n",
    "std1 = budget_size_stds[1]\n",
    "nobs1 = budget_size_val_cnts[1]\n",
    "mean2 = budget_size_means[3]\n",
    "std2 = budget_size_stds[3]\n",
    "nobs2 =  budget_size_val_cnts[3]\n",
    "\n",
    "# hyopothesis test for the mean gross margin of small and big budget films\n",
    "stats.ttest_ind_from_stats(mean1, std1, nobs1, mean2, std2, nobs2)"
   ]
  },
  {
   "cell_type": "code",
   "execution_count": null,
   "metadata": {},
   "outputs": [],
   "source": [
    "fig, ax = plt.subplots(figsize=(12,6))\n",
    "# get the month values and aggregate gross margin to plot\n",
    "x_values = ['Small', 'Medium', 'Big']\n",
    "agg_margin = filtered_budgets.loc[filtered_budgets['gross_margin_dom'].notna() & \n",
    "                                  (filtered_budgets['domestic_gross'] > 0)].groupby(\n",
    "                                    'budget_size')['gross_margin_dom'].mean()\n",
    "\n",
    "sns.barplot(x=x_values, y = agg_margin.values)\n",
    "ax.set_ylabel(\"Average Gross Margin (in %)\", fontsize=16)\n",
    "ax.set_xlabel(\"Budget Size\", fontsize = 16)\n",
    "vals = ax.get_yticks()\n",
    "ax.set_yticklabels([f'{x:.2f}%' for x in vals])\n",
    "\n",
    "ax.set_title(\"Average Gross Margin for Domestic by budget size\", fontsize = 18)\n",
    "plt.tight_layout();"
   ]
  },
  {
   "cell_type": "code",
   "execution_count": null,
   "metadata": {},
   "outputs": [],
   "source": [
    "fig, ax = plt.subplots(figsize=(12,6))\n",
    "# get the month values and aggregate gross margin to plot\n",
    "x_values = ['Small', 'Medium', 'Big']\n",
    "agg_margin = filtered_budgets.loc[filtered_budgets['gross_margin_for'].notna()].groupby(\n",
    "    'budget_size')['gross_margin_for'].mean()\n",
    "\n",
    "sns.barplot(x=x_values, y = agg_margin.values)\n",
    "ax.set_ylabel(\"Average Gross Margin (in %)\", fontsize=16)\n",
    "ax.set_xlabel(\"Budget Size\", fontsize = 16)\n",
    "vals = ax.get_yticks()\n",
    "ax.set_yticklabels([f'{x:.2f}%' for x in vals])\n",
    "\n",
    "ax.set_title(\"Average Gross Margin for Foreign by budget size\", fontsize = 18)\n",
    "plt.tight_layout();"
   ]
  },
  {
   "cell_type": "code",
   "execution_count": null,
   "metadata": {},
   "outputs": [],
   "source": [
    "fig, ax = plt.subplots(figsize=(12,6))\n",
    "# get the month values and aggregate gross margin to plot\n",
    "x_values = ['Small', 'Medium', 'Big']\n",
    "agg_profit = filtered_budgets.groupby('budget_size')['total_profit'].mean()\n",
    "\n",
    "sns.barplot(x=x_values, y = agg_profit.values)\n",
    "ax.set_ylabel(\"Average Total Profit (in $)\", fontsize=16)\n",
    "ax.set_xlabel(\"Budget Size\", fontsize = 16)\n",
    "vals = ax.get_yticks()\n",
    "ax.set_yticklabels([f'${x:,.0f}' for x in vals])\n",
    "\n",
    "ax.set_title(\"Average Total Profit for each budget size category\", fontsize = 18)\n",
    "plt.tight_layout();"
   ]
  },
  {
   "cell_type": "code",
   "execution_count": null,
   "metadata": {},
   "outputs": [],
   "source": [
    "# Create the Gross Margin column in a new dataframe called budgets\n",
    "budgets_dom =  movie_budgets.copy()\n",
    "\n",
    "# only use movies that gross > 0\n",
    "budgets_dom = budgets_dom.loc[budgets_dom['domestic_gross'] > 0]\n",
    "# calculate gross Margin\n",
    "budgets_dom['gross_margin_dom'] = (budgets_dom['domestic_gross'] - \n",
    "                              budgets_dom['production_budget']) / budgets_dom['domestic_gross'] * 100\n",
    "# Add month index column to budgets\n",
    "month = pd.to_datetime(budgets_dom['release_date']).dt.month\n",
    "budgets_dom['month_index'] = month"
   ]
  },
  {
   "cell_type": "code",
   "execution_count": null,
   "metadata": {},
   "outputs": [],
   "source": [
    "# Create the Gross Margin column in a new dataframe called budgets\n",
    "budgets_for =  movie_budgets.copy()\n",
    "\n",
    "# only use movies that gross > 0\n",
    "budgets_for = budgets_for.loc[budgets_for['foreign_gross'] > 0]\n",
    "# calculate gross Margin\n",
    "budgets_for['gross_margin_for'] = (budgets_for['foreign_gross'] - \n",
    "                              budgets_for['production_budget']) / budgets_for['foreign_gross'] * 100\n",
    "# Add month index column to budgets\n",
    "month = pd.to_datetime(budgets_for['release_date']).dt.month\n",
    "budgets_for['month_index'] = month"
   ]
  },
  {
   "cell_type": "code",
   "execution_count": null,
   "metadata": {},
   "outputs": [],
   "source": [
    "# take a random sample of size 100\n",
    "\n",
    "\n",
    "sample_ww = filtered_budgets.sample(n=250) # .loc[budgets['gross_margin_ww'] > -100]\n",
    "sample_dom = filtered_budgets.sample(n=250) # .loc[budgets_dom['gross_margin_dom'] > -100]\n",
    "sample_for = filtered_budgets.sample(n=250) # .loc[budgets_for['gross_margin_for'] > -100]\n",
    "# "
   ]
  },
  {
   "cell_type": "code",
   "execution_count": null,
   "metadata": {},
   "outputs": [],
   "source": [
    "# This plot is visualizing the WORLDWIDE profit margin calculated using worldwide gross\n",
    "sns.set_style(\"darkgrid\")\n",
    "\n",
    "fig, ax = plt.subplots(figsize=(10,10), ncols = 2, nrows = 3)\n",
    "sns.regplot(data = sample_ww, x = \"gross_margin_ww\" , y = \"worldwide_gross\", ax=ax[0,0]);\n",
    "sns.regplot(data = sample_ww, x = \"gross_margin_ww\" , y = \"production_budget\", ax=ax[0,1]);\n",
    "\n",
    "sns.regplot(data = sample_dom, x = \"gross_margin_dom\" , y = \"domestic_gross\", ax=ax[1,0]);\n",
    "sns.regplot(data = sample_dom, x = \"gross_margin_dom\" , y = \"production_budget\", ax=ax[1,1]);\n",
    "\n",
    "sns.regplot(data = sample_for, x = \"gross_margin_for\" , y = \"foreign_gross\", ax=ax[2,0]);\n",
    "sns.regplot(data = sample_for, x = \"gross_margin_for\" , y = \"production_budget\", ax=ax[2,1]);\n",
    "\n",
    "#ax1.set_title(\"Worldwide gross and profit margin (billion)\")\n",
    "#ax2.set_title(\"Production Budget and profit margin (hundred millions)\")\n",
    "plt.tight_layout();"
   ]
  },
  {
   "cell_type": "code",
   "execution_count": null,
   "metadata": {},
   "outputs": [],
   "source": [
    "sns.set_style(\"darkgrid\")\n",
    "\n",
    "fig, ax = plt.subplots(figsize=(10,10), ncols = 2, nrows = 3)\n",
    "sns.regplot(data = filtered_budgets, x = \"gross_margin_ww\" , y = \"worldwide_gross\", ax=ax[0,0]);\n",
    "sns.regplot(data = filtered_budgets, x = \"gross_margin_ww\" , y = \"production_budget\", ax=ax[0,1]);"
   ]
  },
  {
   "cell_type": "markdown",
   "metadata": {},
   "source": [
    "For high budget movies make sure to keep in mind the international audience because as the budget increases profits domestically trend downward however on the international audience profits trend upwards. If you are focusing on a low budget movie to enter into the movie industry then the focus should be domestic because profits tend to be higher comapred to international movies"
   ]
  },
  {
   "cell_type": "code",
   "execution_count": null,
   "metadata": {},
   "outputs": [],
   "source": [
    "sns.set_style(\"darkgrid\")\n",
    "\n",
    "fig, ax = plt.subplots(figsize=(8,5))\n",
    "sns.regplot(data = sample, x = \"production_budget\" , y = \"domestic_profit\", ax=ax);"
   ]
  },
  {
   "cell_type": "code",
   "execution_count": null,
   "metadata": {},
   "outputs": [],
   "source": [
    "fig, ax = plt.subplots(figsize=(8,5))\n",
    "sns.regplot(data = sample, x = \"production_budget\" , y = \"foreign_profit\", ax=ax);"
   ]
  },
  {
   "cell_type": "code",
   "execution_count": null,
   "metadata": {},
   "outputs": [],
   "source": [
    "fig, ax = plt.subplots(figsize=(8,5))\n",
    "sns.regplot(data = sample, x = \"production_budget\" , y = \"total_profit\", ax=ax);"
   ]
  },
  {
   "cell_type": "markdown",
   "metadata": {},
   "source": [
    "Use the median gross margin"
   ]
  },
  {
   "cell_type": "code",
   "execution_count": null,
   "metadata": {},
   "outputs": [],
   "source": [
    "fig, ax = plt.subplots(figsize=(12,6))\n",
    "# get the month values and aggregate gross margin to plot\n",
    "x_values = filtered_budgets.sort_values('month_index')['month'].unique()\n",
    "agg_margin = filtered_budgets.groupby('month_index')['gross_margin_ww'].mean()\n",
    "\n",
    "sns.barplot(x=x_values, y = agg_margin.values)\n",
    "ax.set_ylabel(\"Average Gross Margin\")\n",
    "ax.set_title(\"Average Gross Margin for each month\");"
   ]
  },
  {
   "cell_type": "code",
   "execution_count": null,
   "metadata": {},
   "outputs": [],
   "source": [
    "fig, ax = plt.subplots(figsize=(12,6))\n",
    "# get the month values and aggregate gross margin to plot\n",
    "x_values = budgets.sort_values('month_index')['month'].unique()\n",
    "agg_margin = budgets.groupby('month_index')['gross_margin_ww'].mean()\n",
    "\n",
    "sns.barplot(x=x_values, y = agg_margin.values)\n",
    "ax.set_ylabel(\"Average Gross Margin\")\n",
    "ax.set_title(\"Average Gross Margin for each month\");"
   ]
  },
  {
   "cell_type": "code",
   "execution_count": null,
   "metadata": {},
   "outputs": [],
   "source": [
    "fig, ax = plt.subplots(figsize=(12,6))\n",
    "# get the month values and aggregate gross margin to plot\n",
    "x_values = movie_budgets.sort_values('month_index')['month'].unique()\n",
    "agg_profit = movie_budgets.groupby('month_index')['total_profit'].mean()\n",
    "\n",
    "sns.barplot(x=x_values, y = agg_profit.values)\n",
    "ax.set_ylabel(\"Average Total Profit\")\n",
    "ax.set_title(\"Average Total Profit for each month\");"
   ]
  },
  {
   "cell_type": "markdown",
   "metadata": {},
   "source": [
    "These graphs do not have aggregate values and are not being used in the current analysis"
   ]
  },
  {
   "cell_type": "code",
   "execution_count": null,
   "metadata": {},
   "outputs": [],
   "source": [
    "fig, (ax1, ax2) = plt.subplots(figsize=(12,8), nrows = 2)\n",
    "sns.barplot(data = sample.sort_values('month_index'), \n",
    "            x = 'month', \n",
    "            y='total_profit', \n",
    "            ax = ax1, \n",
    "            errwidth=0)\n",
    "sns.barplot(data = movie_budgets.sort_values('month_index'), \n",
    "            x = 'month', \n",
    "            y='total_profit', \n",
    "            ax=ax2, \n",
    "            errwidth=0)\n",
    "\n",
    "ax1.set_title(\"100 sample movie most profitable months\")\n",
    "ax2.set_title(\"All movies most profitable months\")\n",
    "plt.tight_layout()"
   ]
  },
  {
   "cell_type": "markdown",
   "metadata": {},
   "source": [
    "## Maninder Bawa\n",
    "\n",
    "##### Maninder works only in this section and makes No changes to any other\n"
   ]
  },
  {
   "cell_type": "code",
   "execution_count": null,
   "metadata": {},
   "outputs": [],
   "source": []
  },
  {
   "cell_type": "markdown",
   "metadata": {},
   "source": [
    "## Jessica Pasquesi\n",
    "\n",
    "##### Jessica works only in this section and makes No changes to any other\n"
   ]
  },
  {
   "cell_type": "code",
   "execution_count": 25,
   "metadata": {},
   "outputs": [
    {
     "data": {
      "text/html": [
       "<div>\n",
       "<style scoped>\n",
       "    .dataframe tbody tr th:only-of-type {\n",
       "        vertical-align: middle;\n",
       "    }\n",
       "\n",
       "    .dataframe tbody tr th {\n",
       "        vertical-align: top;\n",
       "    }\n",
       "\n",
       "    .dataframe thead th {\n",
       "        text-align: right;\n",
       "    }\n",
       "</style>\n",
       "<table border=\"1\" class=\"dataframe\">\n",
       "  <thead>\n",
       "    <tr style=\"text-align: right;\">\n",
       "      <th></th>\n",
       "      <th>AVG(averagerating)</th>\n",
       "      <th>AVG(numvotes)</th>\n",
       "      <th>min(numvotes)</th>\n",
       "      <th>max(numvotes)</th>\n",
       "    </tr>\n",
       "  </thead>\n",
       "  <tbody>\n",
       "    <tr>\n",
       "      <th>0</th>\n",
       "      <td>5.810361</td>\n",
       "      <td>14476.48569</td>\n",
       "      <td>5</td>\n",
       "      <td>1841066</td>\n",
       "    </tr>\n",
       "  </tbody>\n",
       "</table>\n",
       "</div>"
      ],
      "text/plain": [
       "   AVG(averagerating)  AVG(numvotes)  min(numvotes)  max(numvotes)\n",
       "0            5.810361    14476.48569              5        1841066"
      ]
     },
     "execution_count": 25,
     "metadata": {},
     "output_type": "execute_result"
    }
   ],
   "source": [
    "q1 = \"\"\"\n",
    "SELECT AVG(averagerating), AVG(numvotes), min(numvotes), max(numvotes)\n",
    "FROM movie_basics\n",
    "JOIN movie_ratings\n",
    "USING (movie_id)\n",
    "WHERE genres LIKE \"%Action%\";\n",
    "\"\"\"\n",
    "\n",
    "q2 = \"\"\"\n",
    "SELECT AVG(averagerating), AVG(numvotes), min(numvotes), max(numvotes)\n",
    "FROM movie_basics\n",
    "JOIN movie_ratings\n",
    "USING (movie_id)\n",
    "WHERE genres LIKE \"%Drama%\";\n",
    "\"\"\"\n",
    "\n",
    "q3 = \"\"\"\n",
    "SELECT distinct genres\n",
    "FROM movie_basics\n",
    "JOIN movie_ratings\n",
    "USING (movie_id)\n",
    "WHERE genres LIKE \"%,A%\";\n",
    "\"\"\"\n",
    "\n",
    "pd.read_sql(q1, conn)"
   ]
  },
  {
   "cell_type": "code",
   "execution_count": 26,
   "metadata": {},
   "outputs": [],
   "source": [
    "new_df = pd.merge(movie_info, reviews, on = 'id')"
   ]
  },
  {
   "cell_type": "code",
   "execution_count": 135,
   "metadata": {},
   "outputs": [
    {
     "data": {
      "text/html": [
       "<div>\n",
       "<style scoped>\n",
       "    .dataframe tbody tr th:only-of-type {\n",
       "        vertical-align: middle;\n",
       "    }\n",
       "\n",
       "    .dataframe tbody tr th {\n",
       "        vertical-align: top;\n",
       "    }\n",
       "\n",
       "    .dataframe thead th {\n",
       "        text-align: right;\n",
       "    }\n",
       "</style>\n",
       "<table border=\"1\" class=\"dataframe\">\n",
       "  <thead>\n",
       "    <tr style=\"text-align: right;\">\n",
       "      <th></th>\n",
       "      <th>Unnamed: 0</th>\n",
       "      <th>genre_ids</th>\n",
       "      <th>id_x</th>\n",
       "      <th>original_language</th>\n",
       "      <th>original_title</th>\n",
       "      <th>popularity</th>\n",
       "      <th>release_date_x</th>\n",
       "      <th>title</th>\n",
       "      <th>vote_average</th>\n",
       "      <th>vote_count</th>\n",
       "      <th>...</th>\n",
       "      <th>movie</th>\n",
       "      <th>production_budget</th>\n",
       "      <th>domestic_gross</th>\n",
       "      <th>worldwide_gross</th>\n",
       "      <th>foreign_gross</th>\n",
       "      <th>domestic_profit</th>\n",
       "      <th>foreign_profit</th>\n",
       "      <th>total_profit</th>\n",
       "      <th>month</th>\n",
       "      <th>year</th>\n",
       "    </tr>\n",
       "  </thead>\n",
       "  <tbody>\n",
       "    <tr>\n",
       "      <th>6</th>\n",
       "      <td>6</td>\n",
       "      <td>[28, 12, 14, 878]</td>\n",
       "      <td>19995</td>\n",
       "      <td>en</td>\n",
       "      <td>Avatar</td>\n",
       "      <td>26.526</td>\n",
       "      <td>2009-12-18</td>\n",
       "      <td>Avatar</td>\n",
       "      <td>7.4</td>\n",
       "      <td>18676</td>\n",
       "      <td>...</td>\n",
       "      <td>Avatar</td>\n",
       "      <td>425000000</td>\n",
       "      <td>760507625</td>\n",
       "      <td>2776345279</td>\n",
       "      <td>2015837654</td>\n",
       "      <td>335507625</td>\n",
       "      <td>1590837654</td>\n",
       "      <td>2351345279</td>\n",
       "      <td>Dec</td>\n",
       "      <td>2009</td>\n",
       "    </tr>\n",
       "    <tr>\n",
       "      <th>2251</th>\n",
       "      <td>23811</td>\n",
       "      <td>[12, 28, 14]</td>\n",
       "      <td>299536</td>\n",
       "      <td>en</td>\n",
       "      <td>Avengers: Infinity War</td>\n",
       "      <td>80.773</td>\n",
       "      <td>2018-04-27</td>\n",
       "      <td>Avengers: Infinity War</td>\n",
       "      <td>8.3</td>\n",
       "      <td>13948</td>\n",
       "      <td>...</td>\n",
       "      <td>Avengers: Infinity War</td>\n",
       "      <td>300000000</td>\n",
       "      <td>678815482</td>\n",
       "      <td>2048134200</td>\n",
       "      <td>1369318718</td>\n",
       "      <td>378815482</td>\n",
       "      <td>1069318718</td>\n",
       "      <td>1748134200</td>\n",
       "      <td>Apr</td>\n",
       "      <td>2018</td>\n",
       "    </tr>\n",
       "    <tr>\n",
       "      <th>1541</th>\n",
       "      <td>14193</td>\n",
       "      <td>[28, 12, 878, 53]</td>\n",
       "      <td>135397</td>\n",
       "      <td>en</td>\n",
       "      <td>Jurassic World</td>\n",
       "      <td>20.709</td>\n",
       "      <td>2015-06-12</td>\n",
       "      <td>Jurassic World</td>\n",
       "      <td>6.6</td>\n",
       "      <td>14056</td>\n",
       "      <td>...</td>\n",
       "      <td>Jurassic World</td>\n",
       "      <td>215000000</td>\n",
       "      <td>652270625</td>\n",
       "      <td>1648854864</td>\n",
       "      <td>996584239</td>\n",
       "      <td>437270625</td>\n",
       "      <td>781584239</td>\n",
       "      <td>1433854864</td>\n",
       "      <td>Jun</td>\n",
       "      <td>2015</td>\n",
       "    </tr>\n",
       "    <tr>\n",
       "      <th>1546</th>\n",
       "      <td>14196</td>\n",
       "      <td>[28, 80, 53]</td>\n",
       "      <td>168259</td>\n",
       "      <td>en</td>\n",
       "      <td>Furious 7</td>\n",
       "      <td>20.396</td>\n",
       "      <td>2015-04-03</td>\n",
       "      <td>Furious 7</td>\n",
       "      <td>7.3</td>\n",
       "      <td>6538</td>\n",
       "      <td>...</td>\n",
       "      <td>Furious 7</td>\n",
       "      <td>190000000</td>\n",
       "      <td>353007020</td>\n",
       "      <td>1518722794</td>\n",
       "      <td>1165715774</td>\n",
       "      <td>163007020</td>\n",
       "      <td>975715774</td>\n",
       "      <td>1328722794</td>\n",
       "      <td>Apr</td>\n",
       "      <td>2015</td>\n",
       "    </tr>\n",
       "    <tr>\n",
       "      <th>683</th>\n",
       "      <td>5179</td>\n",
       "      <td>[878, 28, 12]</td>\n",
       "      <td>24428</td>\n",
       "      <td>en</td>\n",
       "      <td>The Avengers</td>\n",
       "      <td>50.289</td>\n",
       "      <td>2012-05-04</td>\n",
       "      <td>The Avengers</td>\n",
       "      <td>7.6</td>\n",
       "      <td>19673</td>\n",
       "      <td>...</td>\n",
       "      <td>The Avengers</td>\n",
       "      <td>225000000</td>\n",
       "      <td>623279547</td>\n",
       "      <td>1517935897</td>\n",
       "      <td>894656350</td>\n",
       "      <td>398279547</td>\n",
       "      <td>669656350</td>\n",
       "      <td>1292935897</td>\n",
       "      <td>May</td>\n",
       "      <td>2012</td>\n",
       "    </tr>\n",
       "    <tr>\n",
       "      <th>...</th>\n",
       "      <td>...</td>\n",
       "      <td>...</td>\n",
       "      <td>...</td>\n",
       "      <td>...</td>\n",
       "      <td>...</td>\n",
       "      <td>...</td>\n",
       "      <td>...</td>\n",
       "      <td>...</td>\n",
       "      <td>...</td>\n",
       "      <td>...</td>\n",
       "      <td>...</td>\n",
       "      <td>...</td>\n",
       "      <td>...</td>\n",
       "      <td>...</td>\n",
       "      <td>...</td>\n",
       "      <td>...</td>\n",
       "      <td>...</td>\n",
       "      <td>...</td>\n",
       "      <td>...</td>\n",
       "      <td>...</td>\n",
       "      <td>...</td>\n",
       "    </tr>\n",
       "    <tr>\n",
       "      <th>1201</th>\n",
       "      <td>10075</td>\n",
       "      <td>[]</td>\n",
       "      <td>408852</td>\n",
       "      <td>en</td>\n",
       "      <td>The Promise</td>\n",
       "      <td>0.600</td>\n",
       "      <td>2013-10-16</td>\n",
       "      <td>The Promise</td>\n",
       "      <td>9.0</td>\n",
       "      <td>1</td>\n",
       "      <td>...</td>\n",
       "      <td>The Promise</td>\n",
       "      <td>90000000</td>\n",
       "      <td>8224288</td>\n",
       "      <td>10551417</td>\n",
       "      <td>2327129</td>\n",
       "      <td>-81775712</td>\n",
       "      <td>-87672871</td>\n",
       "      <td>-79448583</td>\n",
       "      <td>Apr</td>\n",
       "      <td>2017</td>\n",
       "    </tr>\n",
       "    <tr>\n",
       "      <th>1202</th>\n",
       "      <td>17560</td>\n",
       "      <td>[36, 10749, 18]</td>\n",
       "      <td>354859</td>\n",
       "      <td>en</td>\n",
       "      <td>The Promise</td>\n",
       "      <td>10.158</td>\n",
       "      <td>2017-04-21</td>\n",
       "      <td>The Promise</td>\n",
       "      <td>7.1</td>\n",
       "      <td>195</td>\n",
       "      <td>...</td>\n",
       "      <td>The Promise</td>\n",
       "      <td>90000000</td>\n",
       "      <td>8224288</td>\n",
       "      <td>10551417</td>\n",
       "      <td>2327129</td>\n",
       "      <td>-81775712</td>\n",
       "      <td>-87672871</td>\n",
       "      <td>-79448583</td>\n",
       "      <td>Apr</td>\n",
       "      <td>2017</td>\n",
       "    </tr>\n",
       "    <tr>\n",
       "      <th>1203</th>\n",
       "      <td>20848</td>\n",
       "      <td>[36, 10749, 18]</td>\n",
       "      <td>354859</td>\n",
       "      <td>en</td>\n",
       "      <td>The Promise</td>\n",
       "      <td>10.158</td>\n",
       "      <td>2017-04-21</td>\n",
       "      <td>The Promise</td>\n",
       "      <td>7.1</td>\n",
       "      <td>195</td>\n",
       "      <td>...</td>\n",
       "      <td>The Promise</td>\n",
       "      <td>90000000</td>\n",
       "      <td>8224288</td>\n",
       "      <td>10551417</td>\n",
       "      <td>2327129</td>\n",
       "      <td>-81775712</td>\n",
       "      <td>-87672871</td>\n",
       "      <td>-79448583</td>\n",
       "      <td>Apr</td>\n",
       "      <td>2017</td>\n",
       "    </tr>\n",
       "    <tr>\n",
       "      <th>2132</th>\n",
       "      <td>20698</td>\n",
       "      <td>[28, 80, 14]</td>\n",
       "      <td>400106</td>\n",
       "      <td>en</td>\n",
       "      <td>Bright</td>\n",
       "      <td>15.677</td>\n",
       "      <td>2017-12-22</td>\n",
       "      <td>Bright</td>\n",
       "      <td>6.2</td>\n",
       "      <td>3181</td>\n",
       "      <td>...</td>\n",
       "      <td>Bright</td>\n",
       "      <td>90000000</td>\n",
       "      <td>0</td>\n",
       "      <td>0</td>\n",
       "      <td>0</td>\n",
       "      <td>-90000000</td>\n",
       "      <td>-90000000</td>\n",
       "      <td>-90000000</td>\n",
       "      <td>Dec</td>\n",
       "      <td>2017</td>\n",
       "    </tr>\n",
       "    <tr>\n",
       "      <th>485</th>\n",
       "      <td>2682</td>\n",
       "      <td>[12, 16, 10751]</td>\n",
       "      <td>50321</td>\n",
       "      <td>en</td>\n",
       "      <td>Mars Needs Moms</td>\n",
       "      <td>8.852</td>\n",
       "      <td>2011-03-11</td>\n",
       "      <td>Mars Needs Moms</td>\n",
       "      <td>5.7</td>\n",
       "      <td>299</td>\n",
       "      <td>...</td>\n",
       "      <td>Mars Needs Moms</td>\n",
       "      <td>150000000</td>\n",
       "      <td>21392758</td>\n",
       "      <td>39549758</td>\n",
       "      <td>18157000</td>\n",
       "      <td>-128607242</td>\n",
       "      <td>-131843000</td>\n",
       "      <td>-110450242</td>\n",
       "      <td>Mar</td>\n",
       "      <td>2011</td>\n",
       "    </tr>\n",
       "  </tbody>\n",
       "</table>\n",
       "<p>2385 rows × 22 columns</p>\n",
       "</div>"
      ],
      "text/plain": [
       "      Unnamed: 0          genre_ids    id_x original_language  \\\n",
       "6              6  [28, 12, 14, 878]   19995                en   \n",
       "2251       23811       [12, 28, 14]  299536                en   \n",
       "1541       14193  [28, 12, 878, 53]  135397                en   \n",
       "1546       14196       [28, 80, 53]  168259                en   \n",
       "683         5179      [878, 28, 12]   24428                en   \n",
       "...          ...                ...     ...               ...   \n",
       "1201       10075                 []  408852                en   \n",
       "1202       17560    [36, 10749, 18]  354859                en   \n",
       "1203       20848    [36, 10749, 18]  354859                en   \n",
       "2132       20698       [28, 80, 14]  400106                en   \n",
       "485         2682    [12, 16, 10751]   50321                en   \n",
       "\n",
       "              original_title  popularity release_date_x  \\\n",
       "6                     Avatar      26.526     2009-12-18   \n",
       "2251  Avengers: Infinity War      80.773     2018-04-27   \n",
       "1541          Jurassic World      20.709     2015-06-12   \n",
       "1546               Furious 7      20.396     2015-04-03   \n",
       "683             The Avengers      50.289     2012-05-04   \n",
       "...                      ...         ...            ...   \n",
       "1201             The Promise       0.600     2013-10-16   \n",
       "1202             The Promise      10.158     2017-04-21   \n",
       "1203             The Promise      10.158     2017-04-21   \n",
       "2132                  Bright      15.677     2017-12-22   \n",
       "485          Mars Needs Moms       8.852     2011-03-11   \n",
       "\n",
       "                       title  vote_average  vote_count  ...  \\\n",
       "6                     Avatar           7.4       18676  ...   \n",
       "2251  Avengers: Infinity War           8.3       13948  ...   \n",
       "1541          Jurassic World           6.6       14056  ...   \n",
       "1546               Furious 7           7.3        6538  ...   \n",
       "683             The Avengers           7.6       19673  ...   \n",
       "...                      ...           ...         ...  ...   \n",
       "1201             The Promise           9.0           1  ...   \n",
       "1202             The Promise           7.1         195  ...   \n",
       "1203             The Promise           7.1         195  ...   \n",
       "2132                  Bright           6.2        3181  ...   \n",
       "485          Mars Needs Moms           5.7         299  ...   \n",
       "\n",
       "                       movie production_budget domestic_gross  \\\n",
       "6                     Avatar         425000000      760507625   \n",
       "2251  Avengers: Infinity War         300000000      678815482   \n",
       "1541          Jurassic World         215000000      652270625   \n",
       "1546               Furious 7         190000000      353007020   \n",
       "683             The Avengers         225000000      623279547   \n",
       "...                      ...               ...            ...   \n",
       "1201             The Promise          90000000        8224288   \n",
       "1202             The Promise          90000000        8224288   \n",
       "1203             The Promise          90000000        8224288   \n",
       "2132                  Bright          90000000              0   \n",
       "485          Mars Needs Moms         150000000       21392758   \n",
       "\n",
       "      worldwide_gross  foreign_gross  domestic_profit  foreign_profit  \\\n",
       "6          2776345279     2015837654        335507625      1590837654   \n",
       "2251       2048134200     1369318718        378815482      1069318718   \n",
       "1541       1648854864      996584239        437270625       781584239   \n",
       "1546       1518722794     1165715774        163007020       975715774   \n",
       "683        1517935897      894656350        398279547       669656350   \n",
       "...               ...            ...              ...             ...   \n",
       "1201         10551417        2327129        -81775712       -87672871   \n",
       "1202         10551417        2327129        -81775712       -87672871   \n",
       "1203         10551417        2327129        -81775712       -87672871   \n",
       "2132                0              0        -90000000       -90000000   \n",
       "485          39549758       18157000       -128607242      -131843000   \n",
       "\n",
       "      total_profit  month  year  \n",
       "6       2351345279    Dec  2009  \n",
       "2251    1748134200    Apr  2018  \n",
       "1541    1433854864    Jun  2015  \n",
       "1546    1328722794    Apr  2015  \n",
       "683     1292935897    May  2012  \n",
       "...            ...    ...   ...  \n",
       "1201     -79448583    Apr  2017  \n",
       "1202     -79448583    Apr  2017  \n",
       "1203     -79448583    Apr  2017  \n",
       "2132     -90000000    Dec  2017  \n",
       "485     -110450242    Mar  2011  \n",
       "\n",
       "[2385 rows x 22 columns]"
      ]
     },
     "execution_count": 135,
     "metadata": {},
     "output_type": "execute_result"
    }
   ],
   "source": [
    "tmdb_budgets = pd.merge(tmdb_movies, movie_budgets, left_on = 'title', right_on = 'movie')\n",
    "tmdb_budgets.sort_values(by='total_profit', ascending = False)"
   ]
  },
  {
   "cell_type": "code",
   "execution_count": 143,
   "metadata": {},
   "outputs": [
    {
     "name": "stderr",
     "output_type": "stream",
     "text": [
      "<ipython-input-143-a2ca609371d9>:12: SettingWithCopyWarning: \n",
      "A value is trying to be set on a copy of a slice from a DataFrame\n",
      "\n",
      "See the caveats in the documentation: https://pandas.pydata.org/pandas-docs/stable/user_guide/indexing.html#returning-a-view-versus-a-copy\n",
      "  tmdb_budgets['genre'][index] = tmbd_genres[key]\n",
      "<ipython-input-143-a2ca609371d9>:10: SettingWithCopyWarning: \n",
      "A value is trying to be set on a copy of a slice from a DataFrame\n",
      "\n",
      "See the caveats in the documentation: https://pandas.pydata.org/pandas-docs/stable/user_guide/indexing.html#returning-a-view-versus-a-copy\n",
      "  tmdb_budgets['genre'][index] = 'None'\n"
     ]
    }
   ],
   "source": [
    "index = 0\n",
    "for row in tmdb_budgets['genre_ids']:    \n",
    "    row = row.strip()\n",
    "    row = row.replace(\"[\", \"\")        \n",
    "    row = row.replace(\"]\", \"\")\n",
    "    row = row.replace(\" \", \"\")\n",
    "    row = row.split(\",\")\n",
    "    for key in tmbd_genres.keys():\n",
    "        if row[0] == \"\":\n",
    "            tmdb_budgets['genre'][index] = 'None'\n",
    "        elif int(row[0]) == key:\n",
    "            tmdb_budgets['genre'][index] = tmbd_genres[key]\n",
    "    index+=1\n",
    "                "
   ]
  },
  {
   "cell_type": "code",
   "execution_count": 197,
   "metadata": {},
   "outputs": [
    {
     "data": {
      "text/html": [
       "<div>\n",
       "<style scoped>\n",
       "    .dataframe tbody tr th:only-of-type {\n",
       "        vertical-align: middle;\n",
       "    }\n",
       "\n",
       "    .dataframe tbody tr th {\n",
       "        vertical-align: top;\n",
       "    }\n",
       "\n",
       "    .dataframe thead th {\n",
       "        text-align: right;\n",
       "    }\n",
       "</style>\n",
       "<table border=\"1\" class=\"dataframe\">\n",
       "  <thead>\n",
       "    <tr style=\"text-align: right;\">\n",
       "      <th></th>\n",
       "      <th>Unnamed: 0</th>\n",
       "      <th>genre_ids</th>\n",
       "      <th>id_x</th>\n",
       "      <th>original_language</th>\n",
       "      <th>original_title</th>\n",
       "      <th>popularity</th>\n",
       "      <th>release_date_x</th>\n",
       "      <th>title</th>\n",
       "      <th>vote_average</th>\n",
       "      <th>vote_count</th>\n",
       "      <th>...</th>\n",
       "      <th>production_budget</th>\n",
       "      <th>domestic_gross</th>\n",
       "      <th>worldwide_gross</th>\n",
       "      <th>foreign_gross</th>\n",
       "      <th>domestic_profit</th>\n",
       "      <th>foreign_profit</th>\n",
       "      <th>total_profit</th>\n",
       "      <th>month</th>\n",
       "      <th>year</th>\n",
       "      <th>genre</th>\n",
       "    </tr>\n",
       "  </thead>\n",
       "  <tbody>\n",
       "    <tr>\n",
       "      <th>0</th>\n",
       "      <td>1</td>\n",
       "      <td>[14, 12, 16, 10751]</td>\n",
       "      <td>10191</td>\n",
       "      <td>en</td>\n",
       "      <td>How to Train Your Dragon</td>\n",
       "      <td>28.734</td>\n",
       "      <td>2010-03-26</td>\n",
       "      <td>How to Train Your Dragon</td>\n",
       "      <td>7.7</td>\n",
       "      <td>7610</td>\n",
       "      <td>...</td>\n",
       "      <td>165000000</td>\n",
       "      <td>217581232</td>\n",
       "      <td>494870992</td>\n",
       "      <td>277289760</td>\n",
       "      <td>52581232</td>\n",
       "      <td>112289760</td>\n",
       "      <td>329870992</td>\n",
       "      <td>Mar</td>\n",
       "      <td>2010</td>\n",
       "      <td>Fantasy</td>\n",
       "    </tr>\n",
       "    <tr>\n",
       "      <th>1</th>\n",
       "      <td>2</td>\n",
       "      <td>[12, 28, 878]</td>\n",
       "      <td>10138</td>\n",
       "      <td>en</td>\n",
       "      <td>Iron Man 2</td>\n",
       "      <td>28.515</td>\n",
       "      <td>2010-05-07</td>\n",
       "      <td>Iron Man 2</td>\n",
       "      <td>6.8</td>\n",
       "      <td>12368</td>\n",
       "      <td>...</td>\n",
       "      <td>170000000</td>\n",
       "      <td>312433331</td>\n",
       "      <td>621156389</td>\n",
       "      <td>308723058</td>\n",
       "      <td>142433331</td>\n",
       "      <td>138723058</td>\n",
       "      <td>451156389</td>\n",
       "      <td>May</td>\n",
       "      <td>2010</td>\n",
       "      <td>Adventure</td>\n",
       "    </tr>\n",
       "    <tr>\n",
       "      <th>2</th>\n",
       "      <td>3</td>\n",
       "      <td>[16, 35, 10751]</td>\n",
       "      <td>862</td>\n",
       "      <td>en</td>\n",
       "      <td>Toy Story</td>\n",
       "      <td>28.005</td>\n",
       "      <td>1995-11-22</td>\n",
       "      <td>Toy Story</td>\n",
       "      <td>7.9</td>\n",
       "      <td>10174</td>\n",
       "      <td>...</td>\n",
       "      <td>30000000</td>\n",
       "      <td>191796233</td>\n",
       "      <td>364545516</td>\n",
       "      <td>172749283</td>\n",
       "      <td>161796233</td>\n",
       "      <td>142749283</td>\n",
       "      <td>334545516</td>\n",
       "      <td>Nov</td>\n",
       "      <td>1995</td>\n",
       "      <td>Animation</td>\n",
       "    </tr>\n",
       "    <tr>\n",
       "      <th>3</th>\n",
       "      <td>2473</td>\n",
       "      <td>[16, 35, 10751]</td>\n",
       "      <td>862</td>\n",
       "      <td>en</td>\n",
       "      <td>Toy Story</td>\n",
       "      <td>28.005</td>\n",
       "      <td>1995-11-22</td>\n",
       "      <td>Toy Story</td>\n",
       "      <td>7.9</td>\n",
       "      <td>10174</td>\n",
       "      <td>...</td>\n",
       "      <td>30000000</td>\n",
       "      <td>191796233</td>\n",
       "      <td>364545516</td>\n",
       "      <td>172749283</td>\n",
       "      <td>161796233</td>\n",
       "      <td>142749283</td>\n",
       "      <td>334545516</td>\n",
       "      <td>Nov</td>\n",
       "      <td>1995</td>\n",
       "      <td>Animation</td>\n",
       "    </tr>\n",
       "    <tr>\n",
       "      <th>4</th>\n",
       "      <td>4</td>\n",
       "      <td>[28, 878, 12]</td>\n",
       "      <td>27205</td>\n",
       "      <td>en</td>\n",
       "      <td>Inception</td>\n",
       "      <td>27.920</td>\n",
       "      <td>2010-07-16</td>\n",
       "      <td>Inception</td>\n",
       "      <td>8.3</td>\n",
       "      <td>22186</td>\n",
       "      <td>...</td>\n",
       "      <td>160000000</td>\n",
       "      <td>292576195</td>\n",
       "      <td>835524642</td>\n",
       "      <td>542948447</td>\n",
       "      <td>132576195</td>\n",
       "      <td>382948447</td>\n",
       "      <td>675524642</td>\n",
       "      <td>Jul</td>\n",
       "      <td>2010</td>\n",
       "      <td>Action</td>\n",
       "    </tr>\n",
       "  </tbody>\n",
       "</table>\n",
       "<p>5 rows × 23 columns</p>\n",
       "</div>"
      ],
      "text/plain": [
       "   Unnamed: 0            genre_ids   id_x original_language  \\\n",
       "0           1  [14, 12, 16, 10751]  10191                en   \n",
       "1           2        [12, 28, 878]  10138                en   \n",
       "2           3      [16, 35, 10751]    862                en   \n",
       "3        2473      [16, 35, 10751]    862                en   \n",
       "4           4        [28, 878, 12]  27205                en   \n",
       "\n",
       "             original_title  popularity release_date_x  \\\n",
       "0  How to Train Your Dragon      28.734     2010-03-26   \n",
       "1                Iron Man 2      28.515     2010-05-07   \n",
       "2                 Toy Story      28.005     1995-11-22   \n",
       "3                 Toy Story      28.005     1995-11-22   \n",
       "4                 Inception      27.920     2010-07-16   \n",
       "\n",
       "                      title  vote_average  vote_count  ...  production_budget  \\\n",
       "0  How to Train Your Dragon           7.7        7610  ...          165000000   \n",
       "1                Iron Man 2           6.8       12368  ...          170000000   \n",
       "2                 Toy Story           7.9       10174  ...           30000000   \n",
       "3                 Toy Story           7.9       10174  ...           30000000   \n",
       "4                 Inception           8.3       22186  ...          160000000   \n",
       "\n",
       "  domestic_gross worldwide_gross  foreign_gross  domestic_profit  \\\n",
       "0      217581232       494870992      277289760         52581232   \n",
       "1      312433331       621156389      308723058        142433331   \n",
       "2      191796233       364545516      172749283        161796233   \n",
       "3      191796233       364545516      172749283        161796233   \n",
       "4      292576195       835524642      542948447        132576195   \n",
       "\n",
       "   foreign_profit  total_profit  month  year      genre  \n",
       "0       112289760     329870992    Mar  2010    Fantasy  \n",
       "1       138723058     451156389    May  2010  Adventure  \n",
       "2       142749283     334545516    Nov  1995  Animation  \n",
       "3       142749283     334545516    Nov  1995  Animation  \n",
       "4       382948447     675524642    Jul  2010     Action  \n",
       "\n",
       "[5 rows x 23 columns]"
      ]
     },
     "execution_count": 197,
     "metadata": {},
     "output_type": "execute_result"
    }
   ],
   "source": [
    "tmdb_budgets.head()\n",
    "#tmdb_budgets = tmdb_budgets.loc[tmdb_budgets['worldwide_gross']>0]"
   ]
  },
  {
   "cell_type": "code",
   "execution_count": 192,
   "metadata": {},
   "outputs": [
    {
     "data": {
      "text/plain": [
       "Text(0.5, 0, 'value_counts')"
      ]
     },
     "execution_count": 192,
     "metadata": {},
     "output_type": "execute_result"
    },
    {
     "data": {
      "image/png": "[encoded data removed]",
      "text/plain": [
       "<Figure size 1440x576 with 1 Axes>"
      ]
     },
     "metadata": {
      "needs_background": "light"
     },
     "output_type": "display_data"
    }
   ],
   "source": [
    "# value counts\n",
    "tmdb_budgets['genre'].value_counts().index.tolist()\n",
    "fig, ax = plt.subplots(figsize=(20,8))\n",
    "\n",
    "x_values = tmdb_budgets['genre'].value_counts().index.tolist()\n",
    "y_values = tmdb_budgets['genre'].value_counts()\n",
    "\n",
    "sns.barplot(x=x_values, y=y_values)\n",
    "ax.set_ylabel(\"\");"
   ]
  },
  {
   "cell_type": "code",
   "execution_count": 194,
   "metadata": {},
   "outputs": [
    {
     "data": {
      "image/png": "[encoded data removed]",
      "text/plain": [
       "<Figure size 1440x576 with 1 Axes>"
      ]
     },
     "metadata": {
      "needs_background": "light"
     },
     "output_type": "display_data"
    }
   ],
   "source": [
    "#genre vs average total profit\n",
    "fig, ax = plt.subplots(figsize=(20,8))\n",
    "\n",
    "x_values = tmdb_budgets['genre'].unique()\n",
    "y_values = tmdb_budgets.groupby('genre')['total_profit'].mean()\n",
    "\n",
    "sns.barplot(x=x_values, y=y_values)\n",
    "ax.set_ylabel(\"\");\n",
    "ax.set_ylabel(\"Total Profit\");"
   ]
  },
  {
   "cell_type": "code",
   "execution_count": 195,
   "metadata": {},
   "outputs": [
    {
     "data": {
      "image/png": "[encoded data removed]",
      "text/plain": [
       "<Figure size 1440x576 with 1 Axes>"
      ]
     },
     "metadata": {
      "needs_background": "light"
     },
     "output_type": "display_data"
    }
   ],
   "source": [
    "#genre vs average domestic profit\n",
    "fig, ax = plt.subplots(figsize=(20,8))\n",
    "\n",
    "x_values = tmdb_budgets['genre'].unique()\n",
    "y_values = tmdb_budgets.groupby('genre')['domestic_profit'].mean()\n",
    "\n",
    "sns.barplot(x=x_values, y=y_values)\n",
    "ax.set_ylabel(\"\");\n",
    "ax.set_ylabel(\"Domestic Profit\");"
   ]
  },
  {
   "cell_type": "code",
   "execution_count": 196,
   "metadata": {},
   "outputs": [
    {
     "data": {
      "image/png": "[encoded data removed]",
      "text/plain": [
       "<Figure size 1440x576 with 1 Axes>"
      ]
     },
     "metadata": {
      "needs_background": "light"
     },
     "output_type": "display_data"
    }
   ],
   "source": [
    "#genre vs average foreign profit\n",
    "fig, ax = plt.subplots(figsize=(20,8))\n",
    "\n",
    "x_values = tmdb_budgets['genre'].unique()\n",
    "y_values = tmdb_budgets.groupby('genre')['foreign_profit'].mean()\n",
    "\n",
    "sns.barplot(x=x_values, y=y_values)\n",
    "ax.set_ylabel(\"\");\n",
    "ax.set_ylabel(\"Foreign Profit\");"
   ]
  },
  {
   "cell_type": "markdown",
   "metadata": {},
   "source": [
    "## Vijeet Yarlagadda\n",
    "\n",
    "##### Vijeet works only in this section and makes No changes to any other\n"
   ]
  },
  {
   "cell_type": "code",
   "execution_count": null,
   "metadata": {},
   "outputs": [],
   "source": []
  }
 ],
 "metadata": {
  "kernelspec": {
   "display_name": "Python 3",
   "language": "python",
   "name": "python3"
  },
  "language_info": {
   "codemirror_mode": {
    "name": "ipython",
    "version": 3
   },
   "file_extension": ".py",
   "mimetype": "text/x-python",
   "name": "python",
   "nbconvert_exporter": "python",
   "pygments_lexer": "ipython3",
   "version": "3.8.5"
  }
 },
 "nbformat": 4,
 "nbformat_minor": 2
}
