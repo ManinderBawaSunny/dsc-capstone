{
 "cells": [
  {
   "cell_type": "markdown",
   "metadata": {},
   "source": [
    "## Semester 1 Project Submission\n",
    "\n",
    "Please fill out:\n",
    "* Student name: \n",
    "* Instructor name: \n"
   ]
  },
  {
   "cell_type": "code",
   "execution_count": null,
   "metadata": {},
   "outputs": [],
   "source": [
    "# Your code here - remember to use markdown cells for comments as well!"
   ]
  },
  {
   "cell_type": "code",
   "execution_count": null,
   "metadata": {},
   "outputs": [],
   "source": [
    "### Relevant Imports ###\n",
    "import numpy as np\n",
    "import pandas as pd\n",
    "import scipy.stats as stats\n",
    "import matplotlib.pyplot as plt\n",
    "import seaborn as sns\n",
    "import sqlite3\n",
    "import zipfile\n",
    "\n",
    "%matplotlib inline"
   ]
  },
  {
   "cell_type": "markdown",
   "metadata": {},
   "source": [
    "# Business Understanding\n",
    "\n",
    "### Business Understanding\n",
    "\n",
    "Computing Vision (a made-up company for the purposes of this project) sees all the big companies creating original video content and they want to get in on the fun. They have decided to create a new movie studio, but they don’t have much background in creating movies. You are charged with exploring what types of films are currently doing the best at the box office using different samples of available data. You then will translate those findings into actionable insights that the head of Computing Vision's new movie studio can use to help decide what type of films to create.\n",
    "\n",
    "### Business Metrics\n",
    "\n",
    "Our recommendations for this company will be based off of the Gross Margin which is portrayed as a percentage. The higher this percentage is the more the company is retaining for every dollar that is invested in the movie and as such is seeing a higher return on their investment.\n",
    "\n",
    "$Gross Margin = \\frac{Gross Revenue - Costs}{Gross Revenue} x 100$\n",
    "\n",
    "This is an important metric, especially for a company about to enter an industry they have no presence in because it will help show how far their money goes to create profit. The higher this percentage the better the business will be doing because it is an indicator that retains more on each dollar of sales to its costs. This metric also allows us to take a standardized approach to comparing movies and their success. \n",
    "\n",
    "We want to investigate what a \"Good Movie\" i.e. a movie with a high Gross Margin is doing and try to emulate that. Thus we will explore the budget size, what directors are involved in those high margin films, and also what genres see the highest margin"
   ]
  },
  {
   "cell_type": "markdown",
   "metadata": {},
   "source": [
    "# Data Understanding\n",
    "### Opening all zipped files and databases\n",
    "\n",
    "We began our exploring our data by unzipping the SQLite database as well as reading in all of out csv/tsv files into pandas data frames to get a better idea of how we can approach cleaning the data"
   ]
  },
  {
   "cell_type": "code",
   "execution_count": null,
   "metadata": {},
   "outputs": [],
   "source": [
    "# unzip the im.db.zip file\n",
    "with zipfile.ZipFile(\"zippedData/im.db.zip\", 'r') as zip_ref:\n",
    "    zip_ref.extractall(\"zippedData\")"
   ]
  },
  {
   "cell_type": "code",
   "execution_count": null,
   "metadata": {},
   "outputs": [],
   "source": [
    "# open an sqlite connection\n",
    "\n",
    "conn = sqlite3.connect(\"zippedData/im.db\")\n",
    "cur = conn.cursor()"
   ]
  },
  {
   "cell_type": "code",
   "execution_count": null,
   "metadata": {},
   "outputs": [],
   "source": [
    "# Pull all of the tables in the database\n",
    "cur.execute(\"\"\"SELECT name FROM sqlite_master WHERE type = 'table';\"\"\")\n",
    "# Fetch the result and store it in table_names\n",
    "table_names = cur.fetchall()\n",
    "table_names"
   ]
  },
  {
   "cell_type": "code",
   "execution_count": null,
   "metadata": {
    "scrolled": true
   },
   "outputs": [],
   "source": [
    "# query the notable tables movie_basics\n",
    "q1 = \"\"\"\n",
    "SELECT *\n",
    "FROM movie_basics\n",
    "LIMIT 5;\n",
    "\"\"\"\n",
    "pd.read_sql(q1, conn)"
   ]
  },
  {
   "cell_type": "code",
   "execution_count": null,
   "metadata": {},
   "outputs": [],
   "source": [
    "# query the notable tables movie_ratings\n",
    "q2 = \"\"\"\n",
    "SELECT *\n",
    "FROM movie_ratings\n",
    "LIMIT 5;\n",
    "\"\"\"\n",
    "pd.read_sql(q2, conn)"
   ]
  },
  {
   "cell_type": "markdown",
   "metadata": {},
   "source": [
    "### Database information\n",
    "\n",
    "These two database tables share a \"movie_id\" column, thus we can join on this key and take a look at movie information including name, release year, and genre as well as the average rating with the number of votes. We want to find a good balance of average rating as well as number of ratings since a small number of really high ratings could skew the interpretation of what a \"good\" movie is."
   ]
  },
  {
   "cell_type": "markdown",
   "metadata": {},
   "source": [
    "### CSV and TSV file information\n",
    "\n",
    "Read in all of the tsv and csv files in the proper formatting ensuring headers and proper indexing for the ones which require it as well as proper encoding for the tsv files"
   ]
  },
  {
   "cell_type": "code",
   "execution_count": null,
   "metadata": {
    "scrolled": true
   },
   "outputs": [],
   "source": [
    "movie_info = pd.read_csv(\"zippedData/rt.movie_info.tsv\",header = 0, sep = '\\t')    \n",
    "\n",
    "reviews = pd.read_csv(\"zippedData/rt.reviews.tsv\", header = 0, sep = '\\t', encoding= 'unicode_escape')\n",
    "\n",
    "tmdb_movies = pd.read_csv(\"zippedData/tmdb.movies.csv\", header = 0)    \n",
    "\n",
    "movie_budgets = pd.read_csv(\"zippedData/tn.movie_budgets.csv\", header = 0)\n",
    "\n",
    "movie_gross = pd.read_csv(\"zippedData/bom.movie_gross.csv\", header = 0)"
   ]
  },
  {
   "cell_type": "markdown",
   "metadata": {},
   "source": [
    "#### Movie Info Dataframe\n",
    "\n",
    "This dataframe contains general information regarding the movies including rating, director, release date for theaters and DVD as well as the currency, box office, runtime and studio. There is a unique id column which we will not use as an index because it could be useful for combining data frames or doing different lookups\n",
    "\n",
    "We may consider dropping currency, box office, and studio due to there being many missing values\n",
    "\n",
    "Most columns are missing values and as such we will have to fill or deal with those missing values accordingly, this dataframe is related to the reviews data frame by the id column which relates to a unique id for each movie"
   ]
  },
  {
   "cell_type": "code",
   "execution_count": null,
   "metadata": {},
   "outputs": [],
   "source": [
    "movie_info.info()"
   ]
  },
  {
   "cell_type": "code",
   "execution_count": null,
   "metadata": {},
   "outputs": [],
   "source": [
    "movie_info.head()"
   ]
  },
  {
   "cell_type": "markdown",
   "metadata": {},
   "source": [
    "#### Review Dataframe\n",
    "\n",
    "The most important information from this dataframe will be the id which cooresponds to the movie that they are reviewing and the rating that they give it. We are missing about more than 10,000 ratings which is a considerable amount to discard, so we could fill these with the average value of the rating for the movie that they are reviewing. In order to make thge rating a useful variable we would have to apply a function to transform it from a string into a float rating value\n",
    "\n",
    "A more advanced approach would be to conduct sentiment analysis and apply weights to the most common keywords found in a review at each score level and develop a heuristic to apply a score to the missing values based on the review that they left discarding all review entries without an actual review.\n",
    "\n",
    "This data frame has a relation to the movie_info data frame since bothg come from rotten tomatoes. The id relates to the movie that each critic leaves a review for. "
   ]
  },
  {
   "cell_type": "code",
   "execution_count": null,
   "metadata": {},
   "outputs": [],
   "source": [
    "reviews.info()"
   ]
  },
  {
   "cell_type": "code",
   "execution_count": null,
   "metadata": {},
   "outputs": [],
   "source": [
    "reviews.head()"
   ]
  },
  {
   "cell_type": "code",
   "execution_count": null,
   "metadata": {},
   "outputs": [],
   "source": [
    "reviews['rating'].value_counts()"
   ]
  },
  {
   "cell_type": "markdown",
   "metadata": {},
   "source": [
    "#### The Movie DB Dataframe\n",
    "\n",
    "This dataframe is not missing any values. It has information about genre ids and contains a unique id column along with the movie name, how many votes it received, and what the average vote value was. Vote seems to be this specific sites way of ranking the movies. "
   ]
  },
  {
   "cell_type": "code",
   "execution_count": null,
   "metadata": {},
   "outputs": [],
   "source": [
    "tmdb_movies.info()"
   ]
  },
  {
   "cell_type": "code",
   "execution_count": null,
   "metadata": {},
   "outputs": [],
   "source": [
    "tmdb_movies.head()"
   ]
  },
  {
   "cell_type": "code",
   "execution_count": null,
   "metadata": {},
   "outputs": [],
   "source": [
    "# Create a dictionary to relate the genre id's to the genre found on the movie DB website at \n",
    "# this customer support url: https://www.themoviedb.org/talk/5daf6eb0ae36680011d7e6ee\n",
    "tmbd_genres = {28: \"Action\", 12: \"Adventure\", 16: \"Animation\", 35: \"Comedy\", 99: \"Documentary\", 18: \"Drama\", 10751: \"Family\", 14: \"Fantasy\", 36: \"History\", 27: \"Horror\", 10402: \"Music\", 9648: \"Mystery\", 10749: \"Romance\", 878: \"Science Fiction\", 10770: \"TV Movie\", 53: \"Thriller\", 10752: \"War\", 37: \"Western\"}"
   ]
  },
  {
   "cell_type": "markdown",
   "metadata": {},
   "source": [
    "#### Moview Budgets Data Frame\n",
    "\n",
    "This data frame is also not missing any values, it contains an ID for each movie, the title, production budget, how much the movie grossed domestically and how much it grossed worldwide\n",
    "\n",
    "We will be transforming this data by making the budget and gross column integers as well as adding additional columns for profit and Gross Margin to help us in later analysis"
   ]
  },
  {
   "cell_type": "code",
   "execution_count": null,
   "metadata": {},
   "outputs": [],
   "source": [
    "movie_budgets.info()"
   ]
  },
  {
   "cell_type": "code",
   "execution_count": null,
   "metadata": {},
   "outputs": [],
   "source": [
    "movie_budgets.head()"
   ]
  },
  {
   "cell_type": "markdown",
   "metadata": {},
   "source": [
    "#### Movie Gross Data Frame\n",
    "\n",
    "This data frame is missing a lot of foreign gross values which could potentially be filled in by taking the difference from the budgets df ww_gross - domestic_gross, otherwise we will throw out those values because we can not estimate them.\n",
    "\n",
    "An alternative that we will not explore is scraping the web with the name of the movie and pulling in the foreign gross numbers. We are missing a few domestic gross numbers which can be thrown away since there are not many of them or we can use the movie budgets dataframe again to fill those in. \n",
    "\n",
    "We most likely will not use this data frame because the movie_budgets dataframe offer the same information and a bit more that is helpful to our analysis"
   ]
  },
  {
   "cell_type": "code",
   "execution_count": null,
   "metadata": {},
   "outputs": [],
   "source": [
    "movie_gross.info()"
   ]
  },
  {
   "cell_type": "code",
   "execution_count": null,
   "metadata": {},
   "outputs": [],
   "source": [
    "movie_gross.head()"
   ]
  },
  {
   "cell_type": "markdown",
   "metadata": {},
   "source": [
    "# Data Preparation\n",
    "\n",
    "### Data Cleaning for movie_budgets DataFrame\n",
    "\n",
    "The money_clean function we created removes the '$' and comma symbols from the input string. We used this function to clean the production_budget, domestic_gross, and worldwide_gross columns."
   ]
  },
  {
   "cell_type": "code",
   "execution_count": null,
   "metadata": {},
   "outputs": [],
   "source": [
    "# This is the column of budgets which we want to investigate - notice formatting problems\n",
    "prod_budget = movie_budgets[\"production_budget\"]\n",
    "prod_budget"
   ]
  },
  {
   "cell_type": "code",
   "execution_count": null,
   "metadata": {},
   "outputs": [],
   "source": [
    "def money_clean(s):\n",
    "    ''' \n",
    "    Takes in a string s, removes first character ($) and\n",
    "    all commas return the value cast as an int\n",
    "    '''\n",
    "    s = s[1:]\n",
    "    s = s.replace(\",\", \"\")\n",
    "    return int(s)\n",
    "\n",
    "# apply the method to the pandas series of budget values\n",
    "prod_budget = prod_budget.apply(money_clean)"
   ]
  },
  {
   "cell_type": "code",
   "execution_count": null,
   "metadata": {},
   "outputs": [],
   "source": [
    "# Set this cleaned series to the budget column in the data frame\n",
    "movie_budgets[\"production_budget\"] = prod_budget\n",
    "\n",
    "# apply the function to the other money columns\n",
    "movie_budgets[\"domestic_gross\"] = movie_budgets[\"domestic_gross\"].apply(money_clean)\n",
    "movie_budgets[\"worldwide_gross\"] = movie_budgets[\"worldwide_gross\"].apply(money_clean)\n",
    "\n",
    "# Calculate new values for foreign gross \n",
    "movie_budgets[\"foreign_gross\"] = movie_budgets[\"worldwide_gross\"] - movie_budgets[\"domestic_gross\"]\n",
    "\n",
    "# calculate the profit by taking gross minus budget (Revenue - cost)\n",
    "movie_budgets[\"domestic_profit\"] = movie_budgets[\"domestic_gross\"] - movie_budgets[\"production_budget\"]\n",
    "movie_budgets[\"foreign_profit\"] = movie_budgets[\"foreign_gross\"] - movie_budgets[\"production_budget\"]\n",
    "movie_budgets[\"total_profit\"] = movie_budgets[\"worldwide_gross\"] - movie_budgets[\"production_budget\"]"
   ]
  },
  {
   "cell_type": "code",
   "execution_count": null,
   "metadata": {},
   "outputs": [],
   "source": [
    "# create new month and year columns for later analysis\n",
    "rel_date = movie_budgets[\"release_date\"].str.strip()\n",
    "\n",
    "month = rel_date.apply(lambda x : x[:3])\n",
    "year = rel_date.apply(lambda x : x[-4:])\n",
    "\n",
    "movie_budgets[\"month\"] = month\n",
    "movie_budgets[\"year\"] = year"
   ]
  },
  {
   "cell_type": "code",
   "execution_count": null,
   "metadata": {},
   "outputs": [],
   "source": [
    "movie_budgets.head()"
   ]
  },
  {
   "cell_type": "markdown",
   "metadata": {},
   "source": [
    "# Exploratory Data Analysis and Visualization"
   ]
  },
  {
   "cell_type": "markdown",
   "metadata": {},
   "source": [
    "## Mason Batchelor\n",
    "\n",
    "##### Mason works only in this section and makes No changes to any other\n",
    "\n"
   ]
  },
  {
   "cell_type": "markdown",
   "metadata": {},
   "source": [
    "### Analyzing Movie Budgets\n",
    "\n",
    "Within the movie budgets data frame we created new column to represent the profit, month, and year for each of the entries. We are going to look at the relationship between many of these variables below. \n",
    "\n",
    "Adding in a Gross Margin column is essential given this is the metric we are most interested in. We will use this first to analyze the differnce in budgets, and recommend whether the company should target a large or small budget film. We are going to be taking a sample of 100 movies from the movie_budgets data frame to help with our analysis and visualizations. \n",
    "\n",
    "Additional Assumptions:\n",
    "- only consider movies with a Gross value (worldwide, domestic, and foreign) greater than zero because you cannot calculate Gross Margin with 0 gross revenue\n",
    "- randome samples from this data frame are representative of the population, and will be used in a independent two sample ttest\n",
    "- only consider movies with gross margin > -100 to remove outliers and aid in visualizations"
   ]
  },
  {
   "cell_type": "code",
   "execution_count": null,
   "metadata": {},
   "outputs": [],
   "source": [
    "# Create the Gross Margin column in a new dataframe called budgets\n",
    "budgets =  movie_budgets.copy()\n",
    "# only use movies that gross > 0\n",
    "budgets = budgets.loc[budgets['worldwide_gross'] > 0]\n",
    "\n",
    "# calculate gross Margin\n",
    "budgets['gross_margin_ww'] = (budgets['worldwide_gross'] - \n",
    "                              budgets['production_budget']) / budgets['worldwide_gross'] * 100\n",
    "\n",
    "# only care about values with Gross Margin > 0\n",
    "# budgets_ww = budgets_ww.loc[budgets_ww['gross_margin'] > 0]"
   ]
  },
  {
   "cell_type": "code",
   "execution_count": null,
   "metadata": {},
   "outputs": [],
   "source": [
    "# take a random sample of size 100\n",
    "sample = budgets.loc[budgets['gross_margin_ww'] > -100].sample(n=100)"
   ]
  },
  {
   "cell_type": "code",
   "execution_count": null,
   "metadata": {},
   "outputs": [],
   "source": [
    "# This plot is visualizing the WORLDWIDE profit margin calculated using worldwide gross\n",
    "sns.set_style(\"darkgrid\")\n",
    "\n",
    "fig, (ax1, ax2) = plt.subplots(figsize=(12,6), ncols = 2)\n",
    "sns.regplot(data = sample, x = \"gross_margin_ww\" , y = \"worldwide_gross\", ax=ax1);\n",
    "sns.regplot(data = sample, x = \"gross_margin_ww\" , y = \"production_budget\", ax=ax2);\n",
    "\n",
    "ax1.set_title(\"Worldwide gross and profit margin (billion)\")\n",
    "ax2.set_title(\"Production Budget and profit margin (hundred millions)\")\n",
    "plt.tight_layout();"
   ]
  },
  {
   "cell_type": "markdown",
   "metadata": {},
   "source": [
    "For high budget movies make sure to keep in mind the international audience because as the budget increases profits domestically trend downward however on the international audience profits trend upwards. If you are focusing on a low budget movie to enter into the movie industry then the focus should be domestic because profits tend to be higher comapred to international movies"
   ]
  },
  {
   "cell_type": "code",
   "execution_count": null,
   "metadata": {},
   "outputs": [],
   "source": [
    "sns.set_style(\"darkgrid\")\n",
    "\n",
    "fig, ax = plt.subplots(figsize=(8,5))\n",
    "sns.regplot(data = sample, x = \"production_budget\" , y = \"domestic_profit\", ax=ax);"
   ]
  },
  {
   "cell_type": "code",
   "execution_count": null,
   "metadata": {},
   "outputs": [],
   "source": [
    "fig, ax = plt.subplots(figsize=(8,5))\n",
    "sns.regplot(data = sample, x = \"production_budget\" , y = \"foreign_profit\", ax=ax);"
   ]
  },
  {
   "cell_type": "code",
   "execution_count": null,
   "metadata": {},
   "outputs": [],
   "source": [
    "fig, ax = plt.subplots(figsize=(8,5))\n",
    "sns.regplot(data = sample, x = \"production_budget\" , y = \"total_profit\", ax=ax);"
   ]
  },
  {
   "cell_type": "code",
   "execution_count": null,
   "metadata": {},
   "outputs": [],
   "source": [
    "month = pd.to_datetime(sample['release_date']).dt.month\n",
    "sample['month_index'] = month"
   ]
  },
  {
   "cell_type": "code",
   "execution_count": null,
   "metadata": {},
   "outputs": [],
   "source": [
    "fig, ax = plt.subplots(figsize=(8,5))\n",
    "# get the month values and aggregate gross margin to plot\n",
    "x_values = sample.sort_values('month_index')['month'].unique()\n",
    "agg_margin = sample.groupby('month_index')['gross_margin_ww'].mean()\n",
    "\n",
    "sns.barplot(x=x_values, y = agg_margin.values, errwidth=0)\n",
    "ax.set_ylabel(\"\");"
   ]
  },
  {
   "cell_type": "code",
   "execution_count": null,
   "metadata": {},
   "outputs": [],
   "source": [
    "dates = pd.to_datetime(movie_budgets['release_date'])\n",
    "months = dates.dt.month\n",
    "movie_budgets['month_index'] = months"
   ]
  },
  {
   "cell_type": "code",
   "execution_count": null,
   "metadata": {},
   "outputs": [],
   "source": [
    "sample.loc[sample['month_index'] == 7]['foreign_profit'].mean()"
   ]
  },
  {
   "cell_type": "markdown",
   "metadata": {},
   "source": [
    "These graphs do not have aggregate values and are not being used in the current analysis"
   ]
  },
  {
   "cell_type": "code",
   "execution_count": null,
   "metadata": {},
   "outputs": [],
   "source": [
    "fig, (ax1, ax2) = plt.subplots(figsize=(12,8), nrows = 2)\n",
    "sns.barplot(data = sample.sort_values('month_index'), \n",
    "            x = 'month', \n",
    "            y='total_profit', \n",
    "            ax = ax1, \n",
    "            errwidth=0)\n",
    "sns.barplot(data = movie_budgets.sort_values('month_index'), \n",
    "            x = 'month', \n",
    "            y='total_profit', \n",
    "            ax=ax2, \n",
    "            errwidth=0)\n",
    "\n",
    "ax1.set_title(\"100 sample movie most profitable months\")\n",
    "ax2.set_title(\"All movies most profitable months\")\n",
    "plt.tight_layout()"
   ]
  },
  {
   "cell_type": "markdown",
   "metadata": {},
   "source": [
    "## Maninder Bawa\n",
    "\n",
    "##### Maninder works only in this section and makes No changes to any other\n"
   ]
  },
  {
   "cell_type": "code",
   "execution_count": null,
   "metadata": {},
   "outputs": [],
   "source": []
  },
  {
   "cell_type": "markdown",
   "metadata": {},
   "source": [
    "## Jessica Pasquesi\n",
    "\n",
    "##### Jessica works only in this section and makes No changes to any other\n"
   ]
  },
  {
   "cell_type": "code",
   "execution_count": null,
   "metadata": {},
   "outputs": [],
   "source": []
  },
  {
   "cell_type": "markdown",
   "metadata": {},
   "source": [
    "## Vijeet Yarlagadda\n",
    "\n",
    "##### Vijeet works only in this section and makes No changes to any other\n"
   ]
  },
  {
   "cell_type": "code",
   "execution_count": null,
   "metadata": {},
   "outputs": [],
   "source": [
    "genre_df = movie_budgets\n",
    "\n",
    "genre_df[\"original_title\"] = genre_df[\"movie\"]\n",
    "\n",
    "genre_df = pd.merge(genre_df, tmdb_movies, on=['original_title'])\n",
    "\n",
    "movie_budgets[\"return_on_investment\"] = (movie_budgets[\"total_profit\"] / movie_budgets[\"production_budget\"]) * 100"
   ]
  },
  {
   "cell_type": "code",
   "execution_count": null,
   "metadata": {},
   "outputs": [],
   "source": [
    "# Probability of Profit\n",
    "\n",
    "pop_small = (len(movie_budgets[(movie_budgets[\"total_profit\"] > 0) & (movie_budgets[\"production_budget\"] < 5000000)]) / len(movie_budgets[movie_budgets[\"production_budget\"] < 5000000])) * 100\n",
    "\n",
    "pop_md = (len(movie_budgets[(movie_budgets[\"total_profit\"] > 0) & (movie_budgets[\"production_budget\"] > 5000000) & (movie_budgets[\"production_budget\"] < 100000000)]) / len(movie_budgets[(movie_budgets[\"production_budget\"] > 5000000) & (movie_budgets[\"production_budget\"] < 100000000)])) * 100\n",
    "\n",
    "pop_big = (len(movie_budgets[(movie_budgets[\"total_profit\"] > 0) & (movie_budgets[\"production_budget\"] >= 100000000)]) / len(movie_budgets[(movie_budgets[\"production_budget\"] < 100000000)])) * 100\n",
    "\n",
    "print(pop_small, pop_md, pop_big)\n",
    "\n",
    "fig, ax = plt.subplots(figsize=(12,6))\n",
    "# get the month values and aggregate gross margin to plot\n",
    "x_values = [\"Small\", \"Medium\", \"Large\"]\n",
    "\n",
    "agg_profit = budgets.groupby('budget_size')['gross_margin_ww'].mean()\n",
    "ax.set_yticklabels([f'{x : .2f}%' for x in [0, 10, 20, 30, 40, 50, 60]])\n",
    "\n",
    "\n",
    "sns.barplot(x=x_values, y = [pop_small, pop_md, pop_big], errwidth=0)\n",
    "ax.set_ylabel(\"Percentage of films that have earned profit\")\n",
    "ax.set_title(\"Percentage of profiting films by budget size\")"
   ]
  },
  {
   "cell_type": "code",
   "execution_count": null,
   "metadata": {},
   "outputs": [],
   "source": []
  },
  {
   "cell_type": "code",
   "execution_count": null,
   "metadata": {},
   "outputs": [],
   "source": [
    "small_budget = budgets[budgets[\"production_budget\"] < 5000000]\n",
    "md_budget = budgets[(budgets[\"production_budget\"] > 5000000) & (budgets[\"production_budget\"] < 100000000)]\n",
    "big_budget = budgets[(budgets[\"production_budget\"] >= 100000000)]"
   ]
  },
  {
   "cell_type": "code",
   "execution_count": null,
   "metadata": {},
   "outputs": [],
   "source": [
    "def budget_size(val):\n",
    "    if val < 5000000:\n",
    "        return 1\n",
    "    elif val < 100000000:\n",
    "        return 2\n",
    "    else:\n",
    "        return 3\n",
    "budgets[\"budget_size\"] = budgets[\"production_budget\"].apply(budget_size)"
   ]
  },
  {
   "cell_type": "code",
   "execution_count": null,
   "metadata": {},
   "outputs": [],
   "source": [
    "budgets.groupby(\"budget_size\")[\"gross_margin_ww\"].mean()"
   ]
  },
  {
   "cell_type": "code",
   "execution_count": null,
   "metadata": {},
   "outputs": [],
   "source": [
    "budgets['gross_margin_dom'] = (budgets['domestic_gross'] - \n",
    "                              budgets['production_budget']) / budgets['domestic_gross'] * 100"
   ]
  },
  {
   "cell_type": "code",
   "execution_count": null,
   "metadata": {},
   "outputs": [],
   "source": [
    "budgets.groupby(\"budget_size\")[\"gross_margin_dom\"].mean()"
   ]
  },
  {
   "cell_type": "code",
   "execution_count": null,
   "metadata": {},
   "outputs": [],
   "source": [
    "budgets_dom = budgets.loc[budgets[\"domestic_gross\"] > 0]"
   ]
  },
  {
   "cell_type": "code",
   "execution_count": null,
   "metadata": {},
   "outputs": [],
   "source": [
    "budgets_dom.groupby(\"budget_size\")[\"gross_margin_dom\"].mean()"
   ]
  },
  {
   "cell_type": "code",
   "execution_count": null,
   "metadata": {
    "scrolled": true
   },
   "outputs": [],
   "source": [
    "budgets_dom.tail()"
   ]
  },
  {
   "cell_type": "code",
   "execution_count": null,
   "metadata": {},
   "outputs": [],
   "source": [
    "budgets['gross_margin_foreign'] = (budgets['foreign_gross'] - \n",
    "                              budgets['production_budget']) / budgets['foreign_gross'] * 100\n",
    "\n",
    "budgets_foreign = budgets.loc[budgets[\"foreign_gross\"] > 0]\n",
    "budgets_foreign[budgets[\"gross_margin_foreign\"] > -200].groupby(\"budget_size\")[\"gross_margin_foreign\"].mean()\n"
   ]
  },
  {
   "cell_type": "code",
   "execution_count": null,
   "metadata": {},
   "outputs": [],
   "source": [
    "budgets.groupby(\"budget_size\")[\"total_profit\"].mean()"
   ]
  },
  {
   "cell_type": "code",
   "execution_count": null,
   "metadata": {},
   "outputs": [],
   "source": [
    "budgets_dom.groupby(\"budget_size\")[\"domestic_profit\"].mean()"
   ]
  },
  {
   "cell_type": "code",
   "execution_count": null,
   "metadata": {},
   "outputs": [],
   "source": [
    "budgets_foreign.groupby(\"budget_size\")[\"foreign_profit\"].mean()"
   ]
  },
  {
   "cell_type": "code",
   "execution_count": null,
   "metadata": {},
   "outputs": [],
   "source": [
    "budgets.groupby(\"budget_size\")[\"return_on_investment\"].mean()"
   ]
  },
  {
   "cell_type": "code",
   "execution_count": null,
   "metadata": {},
   "outputs": [],
   "source": [
    "movie_budgets[\"budget_size\"] = movie_budgets[\"production_budget\"].apply(budget_size)"
   ]
  },
  {
   "cell_type": "code",
   "execution_count": null,
   "metadata": {},
   "outputs": [],
   "source": [
    "movie_budgets.groupby(\"budget_size\")[\"total_profit\"].mean()"
   ]
  },
  {
   "cell_type": "code",
   "execution_count": null,
   "metadata": {},
   "outputs": [],
   "source": [
    "fig, ax = plt.subplots(figsize=(12,6))\n",
    "# get the month values and aggregate gross margin to plot\n",
    "x_values = [\"Small\", \"Medium\", \"Large\"]\n",
    "\n",
    "agg_profit = budgets.groupby('budget_size')['gross_margin_ww'].mean()\n",
    "\n",
    "\n",
    "\n",
    "sns.barplot(x=x_values, y = agg_profit.values, errwidth=0)\n",
    "ax.set_ylabel(\"Mean Profit\")\n",
    "ax.set_title(\"Average amount of profit per budget size\")"
   ]
  },
  {
   "cell_type": "code",
   "execution_count": null,
   "metadata": {},
   "outputs": [],
   "source": []
  }
 ],
 "metadata": {
  "kernelspec": {
   "display_name": "Python 3 (ipykernel)",
   "language": "python",
   "name": "python3"
  },
  "language_info": {
   "codemirror_mode": {
    "name": "ipython",
    "version": 3
   },
   "file_extension": ".py",
   "mimetype": "text/x-python",
   "name": "python",
   "nbconvert_exporter": "python",
   "pygments_lexer": "ipython3",
   "version": "3.9.12"
  }
 },
 "nbformat": 4,
 "nbformat_minor": 2
}
